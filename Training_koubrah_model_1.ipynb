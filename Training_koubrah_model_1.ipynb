{
  "nbformat": 4,
  "nbformat_minor": 0,
  "metadata": {
    "colab": {
      "name": "Training_koubrah_model_1.ipynb",
      "provenance": [],
      "collapsed_sections": []
    },
    "kernelspec": {
      "name": "python3",
      "display_name": "Python 3"
    },
    "language_info": {
      "name": "python"
    }
  },
  "cells": [
    {
      "cell_type": "markdown",
      "metadata": {
        "id": "bmRBGdLFSQwM"
      },
      "source": [
        "Name: Tchangmena A Nken Allassan\n",
        "\n",
        "Creation_date: 15/10/2021\n",
        "\n",
        "Update_date: 19/10/2021\n",
        "\n",
        "Here we are going to the train the data from the normal train and test set. GPU needed, to perform training."
      ]
    },
    {
      "cell_type": "code",
      "metadata": {
        "id": "A98AiSfNR1jO"
      },
      "source": [
        "#import necessary libraries\n",
        "import numpy as np\n",
        "import tensorflow as tf\n",
        "import matplotlib.pyplot as plt\n",
        "import json\n",
        "import pandas as pd\n",
        "import keras\n",
        "import cv2\n",
        "from tqdm import  tqdm\n",
        "import os"
      ],
      "execution_count": null,
      "outputs": []
    },
    {
      "cell_type": "code",
      "metadata": {
        "id": "2EgaUqnEXU8Q"
      },
      "source": [
        "#unzipping the data files\n",
        "#!unzip \"drive/MyDrive/Train.zip\""
      ],
      "execution_count": null,
      "outputs": []
    },
    {
      "cell_type": "code",
      "metadata": {
        "id": "ULXgEtp6XdpS"
      },
      "source": [
        "#!unzip \"drive/MyDrive/Test.zip\""
      ],
      "execution_count": null,
      "outputs": []
    },
    {
      "cell_type": "code",
      "metadata": {
        "id": "8ti21d5KYMBc"
      },
      "source": [
        "train_path='Train/'\n",
        "test_path='Test/'"
      ],
      "execution_count": null,
      "outputs": []
    },
    {
      "cell_type": "markdown",
      "metadata": {
        "id": "j1eJXNv0YsZ5"
      },
      "source": [
        "#Data Preparation"
      ]
    },
    {
      "cell_type": "code",
      "metadata": {
        "id": "oMwXeTVbYwLp"
      },
      "source": [
        "from tensorflow.keras.preprocessing.image import ImageDataGenerator"
      ],
      "execution_count": null,
      "outputs": []
    },
    {
      "cell_type": "code",
      "metadata": {
        "id": "tsTxEAMga0L2"
      },
      "source": [
        "BATCH_SIZE=64\n",
        "IMAGE_SIZE=(224,224,3)"
      ],
      "execution_count": null,
      "outputs": []
    },
    {
      "cell_type": "code",
      "metadata": {
        "id": "gbF7Yq2-bEWn",
        "colab": {
          "base_uri": "https://localhost:8080/"
        },
        "outputId": "761bc0f4-c2fa-40a0-a206-f83626be358d"
      },
      "source": [
        "train_generator=ImageDataGenerator(rescale=1./255)\n",
        "\n",
        "train_data=train_generator.flow_from_directory(train_path,\n",
        "                                               target_size=(224,224),\n",
        "                                               color_mode=\"rgb\",\n",
        "                                               class_mode=\"categorical\",\n",
        "                                               batch_size=BATCH_SIZE,\n",
        "                                               shuffle=True,\n",
        "                                               subset='training')\n",
        "\n",
        "val_data=train_generator.flow_from_directory(train_path,\n",
        "                                               target_size=(224,224),\n",
        "                                               color_mode=\"rgb\",\n",
        "                                               class_mode=\"categorical\",\n",
        "                                               batch_size=BATCH_SIZE,\n",
        "                                               shuffle=False,\n",
        "                                               subset='validation')\n",
        "\n",
        "test_generator=ImageDataGenerator(rescale=1./255)\n",
        "test_data=test_generator.flow_from_directory(test_path,\n",
        "                                             target_size=(224,224),\n",
        "                                             color_mode=\"rgb\",\n",
        "                                             class_mode=\"categorical\",\n",
        "                                             batch_size=BATCH_SIZE,\n",
        "                                             shuffle=False,\n",
        "                                             )"
      ],
      "execution_count": null,
      "outputs": [
        {
          "output_type": "stream",
          "name": "stdout",
          "text": [
            "Found 25821 images belonging to 4 classes.\n",
            "Found 6454 images belonging to 4 classes.\n",
            "Found 13414 images belonging to 4 classes.\n"
          ]
        }
      ]
    },
    {
      "cell_type": "code",
      "metadata": {
        "id": "9ai5638Un13c"
      },
      "source": [
        "from tensorflow.keras.applications import VGG16\n",
        "from tensorflow.keras.layers import Dense,Flatten,Dropout,Input\n",
        "from tensorflow.keras.models import Sequential\n",
        "from tensorflow.keras import Model\n",
        "from tensorflow.keras.optimizers import Adam\n",
        "from tensorflow.keras.callbacks import EarlyStopping"
      ],
      "execution_count": null,
      "outputs": []
    },
    {
      "cell_type": "code",
      "metadata": {
        "colab": {
          "base_uri": "https://localhost:8080/"
        },
        "id": "jF3J4aErp5Xe",
        "outputId": "9077b72d-f43b-459b-ab58-63d09f37ac5e"
      },
      "source": [
        "base_model=VGG16(weights=\"imagenet\",include_top=False,input_tensor=Input(shape=IMAGE_SIZE))\n",
        "\n",
        "head_model=base_model.output\n",
        "head_model=Flatten(name=\"flatten\")(head_model)\n",
        "head_model=Dense(4096,activation='relu')(head_model)\n",
        "head_model=Dropout(0.5)(head_model)\n",
        "head_model=Dense(4096,activation='relu')(head_model)\n",
        "head_model=Dropout(0.5)(head_model)\n",
        "head_model=Dense(4,activation='softmax')(head_model)\n",
        "\n",
        "for layers in base_model.layers:\n",
        "  layers.trainable=False\n",
        "\n",
        "model=Model(inputs=base_model.input,outputs=head_model)\n",
        "opt=Adam(learning_rate=0.001)\n",
        "model.compile(loss=\"categorical_crossentropy\",optimizer=opt,metrics=['accuracy'])"
      ],
      "execution_count": null,
      "outputs": [
        {
          "output_type": "stream",
          "name": "stdout",
          "text": [
            "Downloading data from https://storage.googleapis.com/tensorflow/keras-applications/vgg16/vgg16_weights_tf_dim_ordering_tf_kernels_notop.h5\n",
            "58892288/58889256 [==============================] - 1s 0us/step\n",
            "58900480/58889256 [==============================] - 1s 0us/step\n"
          ]
        }
      ]
    },
    {
      "cell_type": "code",
      "metadata": {
        "id": "VMrgMwAxxrRE"
      },
      "source": [
        "early_stop=EarlyStopping(patience=2,monitor='val_loss')"
      ],
      "execution_count": null,
      "outputs": []
    },
    {
      "cell_type": "code",
      "metadata": {
        "colab": {
          "base_uri": "https://localhost:8080/"
        },
        "id": "Nqtf1PGTx8xx",
        "outputId": "4bd4ef8f-62ae-4dde-a241-b43dd8b279bf"
      },
      "source": [
        "result=model.fit_generator(train_data,epochs=20,validation_data=val_data,\n",
        "                           callbacks=[early_stop])"
      ],
      "execution_count": null,
      "outputs": [
        {
          "output_type": "stream",
          "name": "stderr",
          "text": [
            "/usr/local/lib/python3.7/dist-packages/keras/engine/training.py:1972: UserWarning: `Model.fit_generator` is deprecated and will be removed in a future version. Please use `Model.fit`, which supports generators.\n",
            "  warnings.warn('`Model.fit_generator` is deprecated and '\n"
          ]
        },
        {
          "output_type": "stream",
          "name": "stdout",
          "text": [
            "Epoch 1/20\n",
            "404/404 [==============================] - 308s 653ms/step - loss: 0.6075 - accuracy: 0.8725 - val_loss: 0.2022 - val_accuracy: 0.9324\n",
            "Epoch 2/20\n",
            "404/404 [==============================] - 242s 599ms/step - loss: 0.3013 - accuracy: 0.8936 - val_loss: 0.2048 - val_accuracy: 0.9394\n",
            "Epoch 3/20\n",
            "404/404 [==============================] - 242s 600ms/step - loss: 0.2584 - accuracy: 0.9139 - val_loss: 0.2165 - val_accuracy: 0.9303\n"
          ]
        }
      ]
    },
    {
      "cell_type": "code",
      "metadata": {
        "id": "O-kFjBlQyaKA"
      },
      "source": [
        "model.save('koubrah_pretrained.h5','drive/MyDrive/')"
      ],
      "execution_count": null,
      "outputs": []
    }
  ]
}