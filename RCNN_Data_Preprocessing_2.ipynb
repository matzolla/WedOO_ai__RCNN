{
  "nbformat": 4,
  "nbformat_minor": 0,
  "metadata": {
    "colab": {
      "name": "RCNN_Data_Preprocessing_2.ipynb",
      "provenance": []
    },
    "kernelspec": {
      "name": "python3",
      "display_name": "Python 3"
    },
    "language_info": {
      "name": "python"
    },
    "accelerator": "GPU"
  },
  "cells": [
    {
      "cell_type": "markdown",
      "metadata": {
        "id": "R85mxYozsH77"
      },
      "source": [
        "Name: Tchangmena A Nken Allassan\n",
        "\n",
        "Creation_date: 14/10/2021\n",
        "\n",
        "Update_date:  14/10/2021\n",
        "\n",
        "\n",
        "Now here what we create directories for different classes _fruit_healthy_,_fruit_woodiness_,_brown_spot_, and _back_ground_"
      ]
    },
    {
      "cell_type": "code",
      "metadata": {
        "colab": {
          "base_uri": "https://localhost:8080/"
        },
        "id": "X6Ej5IZ90OVc",
        "outputId": "b71540b0-3fef-4a27-fc8a-f4e94500f79f"
      },
      "source": [
        "pip install -q git+https://github.com/eaedk/testing-zindi-package.git"
      ],
      "execution_count": null,
      "outputs": [
        {
          "output_type": "stream",
          "name": "stdout",
          "text": [
            "  Building wheel for zindi (setup.py) ... \u001b[?25l\u001b[?25hdone\n"
          ]
        }
      ]
    },
    {
      "cell_type": "code",
      "metadata": {
        "id": "ethL3WuN0iwQ"
      },
      "source": [
        "# Import Zindian class from the package\n",
        "from zindi.user import Zindian"
      ],
      "execution_count": null,
      "outputs": []
    },
    {
      "cell_type": "code",
      "metadata": {
        "colab": {
          "base_uri": "https://localhost:8080/"
        },
        "id": "IxxQlYpL0n_u",
        "outputId": "1ea2b52c-21ca-44f3-a54a-4aa2132963c8"
      },
      "source": [
        "# create a user object\n",
        "my_username = \"Tony_Stark\"\n",
        "user = Zindian(username = my_username)"
      ],
      "execution_count": null,
      "outputs": [
        {
          "output_type": "stream",
          "name": "stdout",
          "text": [
            "Your password\n",
            ">> ··········\n",
            "\n",
            "[ 🟢 ] 👋🏾👋🏾 Welcome Tony_Stark 👋🏾👋🏾\n",
            "\n"
          ]
        }
      ]
    },
    {
      "cell_type": "code",
      "metadata": {
        "colab": {
          "base_uri": "https://localhost:8080/",
          "height": 1000
        },
        "id": "eFX6hRyl0rpV",
        "outputId": "64bfe691-92b1-4685-c325-2cbcbafa308e"
      },
      "source": [
        "user.select_a_challenge()                               # Select a Zindi challenge\n",
        "user.which_challenge                                    # Get information about the selected challenge"
      ],
      "execution_count": null,
      "outputs": [
        {
          "output_type": "stream",
          "name": "stdout",
          "text": [
            "__________________________________________________________________________________________________________________________________\n",
            "|     |              |                  |                    |          \n",
            "|index|  challenge   |     problem      |       reward       |    id    \n",
            "|     |              |                  |                    |          \n",
            "----------------------------------------------------------------------------------------------------------------------------------\n",
            "|  0  |Public Compet |Automatic Speech R|     $3 000 USD     | mozilla-luganda-automatic-speech-recognition...\n",
            "----------------------------------------------------------------------------------------------------------------------------------\n",
            "|  1  |Public Compet |    Prediction    |     $3 000 USD     | zindi-user-behaviour-birthday-challenge...\n",
            "----------------------------------------------------------------------------------------------------------------------------------\n",
            "|  2  |Public Compet |  Classification  |     Knowledge      | road-segment-identification...\n",
            "----------------------------------------------------------------------------------------------------------------------------------\n",
            "|  3  |Public Compet |    Prediction    |     $1 000 USD     | expresso-churn-prediction...\n",
            "----------------------------------------------------------------------------------------------------------------------------------\n",
            "|  4  |Public Compet |  Classification  |     $1 000 USD     | makerere-passion-fruit-disease-detection-challenge...\n",
            "----------------------------------------------------------------------------------------------------------------------------------\n",
            "|  5  |Public Compet |  Classification  |    2000 Points     | gender-based-violence-tweet-classification-challen...\n",
            "----------------------------------------------------------------------------------------------------------------------------------\n",
            "|  6  |Public Compet |     Forecast     |     $8 800USD      | radiant-earth-spot-the-crop-challenge...\n",
            "----------------------------------------------------------------------------------------------------------------------------------\n",
            "|  7  |Public Compet |     Forecast     |     $8 800 USD     | radiant-earth-spot-the-crop-xl-challenge...\n",
            "----------------------------------------------------------------------------------------------------------------------------------\n",
            "|  8  |Public Compet |    Prediction    |     Knowledge      | local-ocean-conservation-sea-turtle-face-detection...\n",
            "----------------------------------------------------------------------------------------------------------------------------------\n",
            "|  9  |Public Compet |  Classification  |     Knowledge      | zindiweekendz-learning-to-vaccinate-or-not-to-vacc...\n",
            "----------------------------------------------------------------------------------------------------------------------------------\n",
            "| 10  |Public Compet |  Classification  |     Knowledge      | swahili-news-classification...\n",
            "----------------------------------------------------------------------------------------------------------------------------------\n",
            "| 11  |Public Compet |    Prediction    |     Knowledge      | zindiweekendz-learning-urban-air-pollution-challen...\n",
            "----------------------------------------------------------------------------------------------------------------------------------\n",
            "| 12  |Public Compet |  Classification  |     Knowledge      | zindiweekendz-learning-covid-19-tweet-classificati...\n",
            "----------------------------------------------------------------------------------------------------------------------------------\n",
            "| 13  |Public Compet |    Prediction    |     Knowledge      | zindiweekendz-learning-south-african-covid-19-vuln...\n",
            "----------------------------------------------------------------------------------------------------------------------------------\n",
            "| 14  |Public Compet | Computer Vision  |     Knowledge      | zindiweekendz-learning-spot-the-mask-challenge...\n",
            "----------------------------------------------------------------------------------------------------------------------------------\n",
            "| 15  |Public Compet |    Prediction    |     Knowledge      | tanzania-tourism-prediction...\n",
            "----------------------------------------------------------------------------------------------------------------------------------\n",
            "| 16  |Public Compet |    Prediction    |     Knowledge      | data-science-nigeria-2019-challenge-1-insurance-pr...\n",
            "----------------------------------------------------------------------------------------------------------------------------------\n",
            "| 17  |Public Compet | Computer Vision  |     Knowledge      | ai-hack-tunisia-2-computer-vision-challenge-2...\n",
            "----------------------------------------------------------------------------------------------------------------------------------\n",
            "| 18  |Public Compet |    Prediction    |     Knowledge      | ai-tunisia-hack-5-predictive-analytics-challenge-2...\n",
            "----------------------------------------------------------------------------------------------------------------------------------\n",
            "| 19  |Public Compet |  Classification  |     Knowledge      | ai-hack-tunisia-4-predictive-analytics-challenge-1...\n",
            "----------------------------------------------------------------------------------------------------------------------------------\n",
            "| 20  |Public Compet |  Classification  |     Knowledge      | ai-hack-tunisia-1-computer-vision-challenge-1...\n",
            "----------------------------------------------------------------------------------------------------------------------------------\n",
            "| 21  |Public Compet |  Classification  |     Knowledge      | ai-hack-tunisia-6-predictive-analytics-challenge-3...\n",
            "----------------------------------------------------------------------------------------------------------------------------------\n",
            "| 22  |Public Compet | Computer Vision  |     Knowledge      | miia-pothole-image-classification-challenge...\n",
            "----------------------------------------------------------------------------------------------------------------------------------\n",
            "| 23  |Public Compet | Computer Vision  |     Knowledge      | sbtic-animal-classification...\n",
            "----------------------------------------------------------------------------------------------------------------------------------\n",
            "| 24  |Public Compet |    Prediction    |     Knowledge      | financial-inclusion-in-africa...\n",
            "----------------------------------------------------------------------------------------------------------------------------------\n",
            "| 25  |Public Compet | Computer Vision  |     Knowledge      | cmu-africa-data-science-club-challenge-1-computer-...\n",
            "----------------------------------------------------------------------------------------------------------------------------------\n",
            "| 26  |Public Compet |    Prediction    |     Knowledge      | data-science-nigeria-challenge-1-loan-default-pred...\n",
            "----------------------------------------------------------------------------------------------------------------------------------\n",
            "| 27  |Public Compet |    Prediction    |     Knowledge      | data-science-nigeria-challenge-2-recommendation-en...\n",
            "----------------------------------------------------------------------------------------------------------------------------------\n",
            "| 28  | Public Hack  | Computer Vision  |      $300 USD      | marine-invertebrates-classification-challenge...\n",
            "----------------------------------------------------------------------------------------------------------------------------------\n",
            "| 29  | Public Hack  |  Classification  |      $300 USD      | road-segment-identification-challenge...\n",
            "----------------------------------------------------------------------------------------------------------------------------------\n",
            "| 30  | Public Hack  |  Classification  |     $1 000 USD     | amld...   \n",
            "----------------------------------------------------------------------------------------------------------------------------------\n",
            "| 31  | Public Hack  |  Classification  |      $300 USD      | gender-based-violence-tweet-classification...\n",
            "----------------------------------------------------------------------------------------------------------------------------------\n",
            "| 32  | Public Hack  |     Forecast     |        $300        | radiant-earth-spot-the-crop-hackathon...\n",
            "----------------------------------------------------------------------------------------------------------------------------------\n",
            "| 33  | Public Hack  |                  |      $700 USD      | silicon-valley-21st-century-education-hackathon...\n",
            "----------------------------------------------------------------------------------------------------------------------------------\n",
            "| 34  |Public Compet |    Prediction    |     $1 000 USD     | cryptocurrency-closing-price-prediction...\n",
            "----------------------------------------------------------------------------------------------------------------------------------\n",
            "| 35  |Public Compet |    Prediction    |     $5 000 USD     | sfc-paygo-solar-credit-repayment-competition...\n",
            "----------------------------------------------------------------------------------------------------------------------------------\n",
            "| 36  | Public Hack  |    Prediction    |      $300 USD      | sfc-paygo-solar-credit-repayment-hackathon...\n",
            "----------------------------------------------------------------------------------------------------------------------------------\n",
            "| 37  |Public Compet |  Visualisation   |     $5 000 USD     | afd-solutions-for-gender-based-violence-challenge...\n",
            "----------------------------------------------------------------------------------------------------------------------------------\n",
            "| 38  |Public Compet |    Prediction    |Scholarship worth $3| ix-mobile-banking-prediction-challenge...\n",
            "----------------------------------------------------------------------------------------------------------------------------------\n",
            "| 39  |Public Compet |  Visualisation   |     $1 500 USD     | deepfake-africa-challenge...\n",
            "----------------------------------------------------------------------------------------------------------------------------------\n",
            "| 40  |Public Compet |    Prediction    |     $1 000 USD     | airqo-low-cost-air-quality-monitor-calibration-cha...\n",
            "----------------------------------------------------------------------------------------------------------------------------------\n",
            "| 41  | Public Hack  |    Prediction    |      $250 USD      | airqo-air-sensor-calibration-challenge...\n",
            "----------------------------------------------------------------------------------------------------------------------------------\n",
            "| 42  |Public Compet |    Prediction    |    2000 Points     | economic-well-being-prediction-challenge...\n",
            "----------------------------------------------------------------------------------------------------------------------------------\n",
            "| 43  | Public Hack  |    Prediction    |     $1,000 USD     | womens-hackathon...\n",
            "----------------------------------------------------------------------------------------------------------------------------------\n",
            "| 44  |Public Compet |    Prediction    |    $10 000 USD     | lacuna-correct-field-detection-challenge...\n",
            "----------------------------------------------------------------------------------------------------------------------------------\n",
            "| 45  |Public Compet |    Prediction    |     $1 000 USD     | autoinland-vehicle-insurance-claim-challenge...\n",
            "----------------------------------------------------------------------------------------------------------------------------------\n",
            "| 46  |Public Compet |    Collection    |     $1 000 USD     | afd-gender-based-violence-dataset-collection-chall...\n",
            "----------------------------------------------------------------------------------------------------------------------------------\n",
            "| 47  |Public Compet |Automatic Speech R|     $2 000 USD     | ai4d-baamtu-datamation-automatic-speech-recognitio...\n",
            "----------------------------------------------------------------------------------------------------------------------------------\n",
            "| 48  |Public Compet |  Classification  |     $2 000 USD     | ai4d-malawi-news-classification-challenge...\n",
            "----------------------------------------------------------------------------------------------------------------------------------\n",
            "| 49  |Public Compet |   Translation    |     $2 000 USD     | ai4d-takwimu-lab-machine-translation-challenge...\n",
            "----------------------------------------------------------------------------------------------------------------------------------\n",
            "| 50  |Public Compet |   Translation    |     $2 000 USD     | ai4d-yoruba-machine-translation-challenge...\n",
            "----------------------------------------------------------------------------------------------------------------------------------\n",
            "| 51  |Public Compet |  Classification  |     $2 000 USD     | ai4d-icompass-social-media-sentiment-analysis-for-...\n",
            "----------------------------------------------------------------------------------------------------------------------------------\n",
            "| 52  |Public Compet |  Classification  |   Job Interview    | instadeep-enzyme-classification-challenge...\n",
            "----------------------------------------------------------------------------------------------------------------------------------\n",
            "| 53  |Public Compet |    Prediction    |     $3 000 USD     | cgiar-crop-yield-prediction-challenge...\n",
            "----------------------------------------------------------------------------------------------------------------------------------\n",
            "| 54  |Public Compet |    Prediction    |     $6 000 USD     | uber-nairobi-ambulance-perambulation-challenge...\n",
            "----------------------------------------------------------------------------------------------------------------------------------\n",
            "| 55  |Public Compet |  Classification  |     $7 000 USD     | giz-nlp-agricultural-keyword-spotter...\n",
            "----------------------------------------------------------------------------------------------------------------------------------\n",
            "| 56  |Public Compet | Computer Vision  |     $3 000 USD     | cgiar-wheat-growth-stage-challenge...\n",
            "----------------------------------------------------------------------------------------------------------------------------------\n",
            "| 57  |Public Compet |  Classification  | 2000 Zindi Points  | runmila-ai-institute-minohealth-ai-labs-tuberculos...\n",
            "----------------------------------------------------------------------------------------------------------------------------------\n",
            "| 58  |Public Compet |    Prediction    |    $25 000 USD     | usaids-intelligent-forecasting-challenge-model-fut...\n",
            "----------------------------------------------------------------------------------------------------------------------------------\n",
            "| 59  |Public Compet |    Prediction    |     $5 000 USD     | zimnat-insurance-recommendation-challenge...\n",
            "----------------------------------------------------------------------------------------------------------------------------------\n",
            "| 60  |Public Compet |Reinforcement Lear| 3000 Zindi Points  | indaba-grand-challenge-curing-leishmaniasis...\n",
            "----------------------------------------------------------------------------------------------------------------------------------\n",
            "| 61  | Public Hack  |    Prediction    |     Knowledge      | fighting-fire-with-data-hackathon...\n",
            "----------------------------------------------------------------------------------------------------------------------------------\n",
            "| 62  | Public Hack  |  Classification  |    225,000 Tsh     | swahili-news-classification-challenge...\n",
            "----------------------------------------------------------------------------------------------------------------------------------\n",
            "| 63  | Public Hack  | Computer Vision  |     $1,000 USD     | sansa-informal-settlements-in-south-africa...\n",
            "----------------------------------------------------------------------------------------------------------------------------------\n",
            "| 64  |Public Compet |    Collection    |     $6 000 USD     | ai4d-african-language-dataset-challenge...\n",
            "----------------------------------------------------------------------------------------------------------------------------------\n",
            "| 65  | Public Hack  |    Prediction    |      $300 USD      | the-zimnat-insurance-assurance-challenge...\n",
            "----------------------------------------------------------------------------------------------------------------------------------\n",
            "| 66  |Public Compet |    Prediction    |     $3 000 USD     | akeed-restaurant-recommendation-challenge...\n",
            "----------------------------------------------------------------------------------------------------------------------------------\n",
            "| 67  | Public Hack  |    Prediction    |      $300 USD      | akeed-restaurant-recommendation-hackathon...\n",
            "----------------------------------------------------------------------------------------------------------------------------------\n",
            "| 68  | Public Hack  |  Classification  |      $300 USD      | covid-19-tweet-classification-challenge...\n",
            "----------------------------------------------------------------------------------------------------------------------------------\n",
            "| 69  |Public Compet |  Classification  |     $4 200 USD     | basic-needs-basic-rights-kenya-tech4mentalhealth...\n",
            "----------------------------------------------------------------------------------------------------------------------------------\n",
            "| 70  | Public Hack  |  Classification  |      $300 USD      | to-vaccinate-or-not-to-vaccinate-its-not-a-questio...\n",
            "----------------------------------------------------------------------------------------------------------------------------------\n",
            "| 71  | Public Hack  | Computer Vision  |      $300 USD      | spot-the-mask-challenge...\n",
            "----------------------------------------------------------------------------------------------------------------------------------\n",
            "| 72  | Public Hack  |    Prediction    |      $300 USD      | urban-air-pollution-challenge...\n",
            "----------------------------------------------------------------------------------------------------------------------------------\n",
            "| 73  | Public Hack  |    Prediction    |      $300 USD      | south-african-covid-19-vulnerability-map...\n",
            "----------------------------------------------------------------------------------------------------------------------------------\n",
            "| 74  |Public Compet |  Visualisation   |     $3 195 USD     | animal-insights-challenge...\n",
            "----------------------------------------------------------------------------------------------------------------------------------\n",
            "| 75  |Public Compet |     Forecast     |     $5 000 USD     | airqo-ugandan-air-quality-forecast-challenge...\n",
            "----------------------------------------------------------------------------------------------------------------------------------\n",
            "| 76  |Public Compet |     Forecast     |     $5 000 USD     | predict-the-global-spread-of-covid-19...\n",
            "----------------------------------------------------------------------------------------------------------------------------------\n",
            "| 77  |Public Compet | Computer Vision  |     $5 000 USD     | iclr-workshop-challenge-2-radiant-earth-computer-v...\n",
            "----------------------------------------------------------------------------------------------------------------------------------\n",
            "| 78  |Public Compet | Computer Vision  |     $5 000 USD     | iclr-workshop-challenge-1-cgiar-computer-vision-fo...\n",
            "----------------------------------------------------------------------------------------------------------------------------------\n",
            "| 79  |Public Compet |  Classification  | 2000 Zindi Points  | fowl-escapades...\n",
            "----------------------------------------------------------------------------------------------------------------------------------\n",
            "| 80  |Public Compet |     Forecast     |    $10 000 USD     | 2030-vision-flood-prediction-in-malawi...\n",
            "----------------------------------------------------------------------------------------------------------------------------------\n",
            "| 81  |Public Compet |  Visualisation   |     $5 000 USD     | 2030-vision-data-visualization-and-reporting-chall...\n",
            "----------------------------------------------------------------------------------------------------------------------------------\n",
            "| 82  |Public Compet |     Forecast     | 2000 Zindi Points  | sea-turtle-rescue-forecast-challenge...\n",
            "----------------------------------------------------------------------------------------------------------------------------------\n",
            "| 83  |Public Compet |    Prediction    |     $5 000 USD     | womxn-in-big-data-south-africa-female-headed-house...\n",
            "----------------------------------------------------------------------------------------------------------------------------------\n",
            "| 84  |Public Compet |  Classification  | 2000 Zindi Points  | tic-heap-cirta-particle-classification-challenge...\n",
            "----------------------------------------------------------------------------------------------------------------------------------\n",
            "| 85  |Public Compet |    Prediction    |     $5 500 USD     | uber-movement-sanral-cape-town-challenge...\n",
            "----------------------------------------------------------------------------------------------------------------------------------\n",
            "| 86  |Public Compet |    Prediction    | 2000 Zindi Points  | sbtic-xente-credit-scoring-challenge...\n",
            "----------------------------------------------------------------------------------------------------------------------------------\n",
            "| 87  |Public Compet |Reinforcement Lear|     Knowledge      | ibm-malaria-challenge...\n",
            "----------------------------------------------------------------------------------------------------------------------------------\n",
            "| 88  |Public Compet |    Prediction    |     $7 000 USD     | sendy-logistics-challenge...\n",
            "----------------------------------------------------------------------------------------------------------------------------------\n",
            "| 89  |Public Compet |     Forecast     |     $8 000 USD     | wazihub-soil-moisture-prediction-challenge...\n",
            "----------------------------------------------------------------------------------------------------------------------------------\n",
            "| 90  |Public Compet |  Visualisation   |     $3 000 USD     | ai-art... \n",
            "----------------------------------------------------------------------------------------------------------------------------------\n",
            "| 91  |Public Compet |  Classification  |     $4 500 USD     | xente-fraud-detection-challenge...\n",
            "----------------------------------------------------------------------------------------------------------------------------------\n",
            "| 92  |Public Compet |     Forecast     | 2000 Zindi Points  | mtoto-news-childline-kenya-call-volume-prediction-...\n",
            "----------------------------------------------------------------------------------------------------------------------------------\n",
            "| 93  |Public Compet |    Prediction    |Cash and prizes wort| mobile-money-and-financial-inclusion-in-tanzania-c...\n",
            "----------------------------------------------------------------------------------------------------------------------------------\n",
            "| 94  |Public Compet |  Classification  |    $11 000 USD     | farm-pin-crop-detection-challenge...\n",
            "----------------------------------------------------------------------------------------------------------------------------------\n",
            "| 95  |Public Compet |  Classification  |Cash and prizes wort| sea-turtle-rescue-error-detection-challenge...\n",
            "----------------------------------------------------------------------------------------------------------------------------------\n",
            "| 96  |Public Compet |    Prediction    |  500 Zindi Points  | busara-mental-health-prediction-challenge...\n",
            "----------------------------------------------------------------------------------------------------------------------------------\n",
            "| 97  |Public Compet |    Prediction    |    $12 000 USD     | traffic-jam-predicting-peoples-movement-into-nairo...\n",
            "----------------------------------------------------------------------------------------------------------------------------------\n",
            "| 98  |Public Compet |  Classification  |     $1 000 USD     | sustainable-development-goals-sdgs-text-classifica...\n",
            "----------------------------------------------------------------------------------------------------------------------------------\n",
            "| 99  |Public Compet |    Prediction    |     $1 000 USD     | social-media-prediction-challenge...\n",
            "__________________________________________________________________________________________________________________________________\n",
            "\n",
            "\n",
            "Type the index of the challenge you want to select or 'q' to exit.\n",
            ">>4\n",
            "\n",
            "[ 🟢 ] You choose the challenge : makerere-passion-fruit-disease-detection-challenge,\n",
            "\tCan you identify which passion fruit are diseased and which are healthy?.\n",
            "\n",
            "\n",
            "[ 🟢 ] You are currently enrolled in : makerere-passion-fruit-disease-detection-challenge challenge,\n",
            "\tCan you identify which passion fruit are diseased and which are healthy?.\n",
            "\n"
          ]
        },
        {
          "output_type": "execute_result",
          "data": {
            "application/vnd.google.colaboratory.intrinsic+json": {
              "type": "string"
            },
            "text/plain": [
              "'makerere-passion-fruit-disease-detection-challenge'"
            ]
          },
          "metadata": {},
          "execution_count": 13
        }
      ]
    },
    {
      "cell_type": "code",
      "metadata": {
        "colab": {
          "base_uri": "https://localhost:8080/"
        },
        "id": "9XOqGMjy0sxb",
        "outputId": "419eaaab-44c7-463d-f37c-e70da330e056"
      },
      "source": [
        "user.download_dataset(destination=\"dataset\") # Download the dataset of the selected challenge"
      ],
      "execution_count": null,
      "outputs": [
        {
          "output_type": "stream",
          "name": "stderr",
          "text": [
            "dataset/PassionfruitStarterNotebook.ipynb: 100%|██████████| 609k/609k [00:00<00:00, 1.23Mo/s]\n",
            "dataset/Test.csv: 100%|██████████| 10.9k/10.9k [00:00<00:00, 4.32Mo/s]\n",
            "dataset/Sample_submission.csv: 100%|██████████| 16.4k/16.4k [00:00<00:00, 3.94Mo/s]\n",
            "dataset/Train_Images.zip: 100%|██████████| 293M/293M [00:27<00:00, 11.0Mo/s]\n",
            "dataset/Test_Images.zip: 100%|██████████| 36.4M/36.4M [00:04<00:00, 8.81Mo/s]\n",
            "dataset/Train.csv: 100%|██████████| 192k/192k [00:00<00:00, 491ko/s]\n"
          ]
        }
      ]
    },
    {
      "cell_type": "code",
      "metadata": {
        "id": "Z5OfqxNH01HM"
      },
      "source": [
        "#!unzip \"dataset/Train_Images.zip\""
      ],
      "execution_count": null,
      "outputs": []
    },
    {
      "cell_type": "code",
      "metadata": {
        "id": "lg2NFyScoOHQ"
      },
      "source": [
        "#import necessary libraries\n",
        "import numpy as np\n",
        "import pandas as pd\n",
        "import matplotlib.pyplot as plt\n",
        "import cv2\n",
        "import keras\n",
        "import os \n",
        "from tqdm import tqdm\n",
        "import json"
      ],
      "execution_count": null,
      "outputs": []
    },
    {
      "cell_type": "code",
      "metadata": {
        "id": "Dl5aTgSzzocS"
      },
      "source": [
        "#path to data\n",
        "train_json='train.json'\n",
        "test_json='test.json'\n",
        "data='Train_Images/'"
      ],
      "execution_count": null,
      "outputs": []
    },
    {
      "cell_type": "code",
      "metadata": {
        "id": "xreJw9pG1_8z"
      },
      "source": [
        "#train\n",
        "with open(train_json,'r') as train:\n",
        "  train_data=json.load(train)"
      ],
      "execution_count": null,
      "outputs": []
    },
    {
      "cell_type": "code",
      "metadata": {
        "id": "PtK3Mp9GCx6k"
      },
      "source": [
        "#test\n",
        "with open(test_json,'r') as test:\n",
        "  test_data=json.load(test)"
      ],
      "execution_count": null,
      "outputs": []
    },
    {
      "cell_type": "code",
      "metadata": {
        "id": "rY6VQWEpD-jQ"
      },
      "source": [
        "train_image_list=list(train_data.keys())\n",
        "test_image_list=list(test_data.keys())"
      ],
      "execution_count": null,
      "outputs": []
    },
    {
      "cell_type": "markdown",
      "metadata": {
        "id": "e3LtTjbSOMg7"
      },
      "source": [
        "#Creating folders"
      ]
    },
    {
      "cell_type": "code",
      "metadata": {
        "id": "jYhS8gXHMVBA",
        "colab": {
          "base_uri": "https://localhost:8080/",
          "height": 185
        },
        "outputId": "95f379ce-87b3-4c63-8cff-4dfa9c1484da"
      },
      "source": [
        "os.mkdir('Train')\n",
        "os.mkdir('Test')"
      ],
      "execution_count": null,
      "outputs": [
        {
          "output_type": "error",
          "ename": "FileExistsError",
          "evalue": "ignored",
          "traceback": [
            "\u001b[0;31m---------------------------------------------------------------------------\u001b[0m",
            "\u001b[0;31mFileExistsError\u001b[0m                           Traceback (most recent call last)",
            "\u001b[0;32m<ipython-input-22-b3b282b3006e>\u001b[0m in \u001b[0;36m<module>\u001b[0;34m()\u001b[0m\n\u001b[0;32m----> 1\u001b[0;31m \u001b[0mos\u001b[0m\u001b[0;34m.\u001b[0m\u001b[0mmkdir\u001b[0m\u001b[0;34m(\u001b[0m\u001b[0;34m'Train'\u001b[0m\u001b[0;34m)\u001b[0m\u001b[0;34m\u001b[0m\u001b[0;34m\u001b[0m\u001b[0m\n\u001b[0m\u001b[1;32m      2\u001b[0m \u001b[0mos\u001b[0m\u001b[0;34m.\u001b[0m\u001b[0mmkdir\u001b[0m\u001b[0;34m(\u001b[0m\u001b[0;34m'Test'\u001b[0m\u001b[0;34m)\u001b[0m\u001b[0;34m\u001b[0m\u001b[0;34m\u001b[0m\u001b[0m\n",
            "\u001b[0;31mFileExistsError\u001b[0m: [Errno 17] File exists: 'Train'"
          ]
        }
      ]
    },
    {
      "cell_type": "code",
      "metadata": {
        "id": "33AJjrD-PGub"
      },
      "source": [
        "os.mkdir('Train/fruit_healthy')\n",
        "os.mkdir('Train/fruit_woodiness')\n",
        "os.mkdir('Train/fruit_brownspot')\n",
        "os.mkdir('Train/back_ground')"
      ],
      "execution_count": null,
      "outputs": []
    },
    {
      "cell_type": "code",
      "metadata": {
        "id": "KNdxLVNjP5-G"
      },
      "source": [
        "os.mkdir('Test/fruit_healthy')\n",
        "os.mkdir('Test/fruit_woodiness')\n",
        "os.mkdir('Test/fruit_brownspot')\n",
        "os.mkdir('Test/back_ground')"
      ],
      "execution_count": null,
      "outputs": []
    },
    {
      "cell_type": "markdown",
      "metadata": {
        "id": "O1LRLi1GVRXT"
      },
      "source": [
        "# Creating images"
      ]
    },
    {
      "cell_type": "code",
      "metadata": {
        "colab": {
          "base_uri": "https://localhost:8080/"
        },
        "id": "30VmxnleP_uk",
        "outputId": "1b813b41-ba0d-42f2-a97d-62febeda58b0"
      },
      "source": [
        "#training_process\n",
        "\n",
        "for i,id in tqdm(enumerate(train_image_list)):\n",
        "\n",
        "  #reading images in train_data\n",
        "  img=cv2.imread(data+id)\n",
        "\n",
        "  for region_prop in train_data[id]['region_proposal']:\n",
        "\n",
        "    #getting the region of proposal\n",
        "    x,y,w,h=region_prop[0]\n",
        "\n",
        "    # getting the labels\n",
        "    label=region_prop[1]\n",
        "\n",
        "    temp_img=cv2.cvtColor(cv2.resize(img[y:y+h,x:x+w,:],(224,224)),cv2.COLOR_BGR2RGB)\n",
        "\n",
        "    cv2.imwrite('Train/'+label+'/'+label+'_'+str(len(os.listdir('Train/'+label)))+'.jpg',temp_img)\n",
        "\n",
        "  for back_ground in train_data[id]['negative_sample']:\n",
        "\n",
        "    #getting the region of proposal\n",
        "    x,y,w,h=back_ground\n",
        "\n",
        "    # getting the labels\n",
        "    label='back_ground'\n",
        "\n",
        "    temp_img=cv2.cvtColor(cv2.resize(img[y:y+h,x:x+w,:],(224,224)),cv2.COLOR_BGR2RGB)\n",
        "\n",
        "    cv2.imwrite('Train/'+label+'/'+label+'_'+str(len(os.listdir('Train/'+label)))+'.jpg',temp_img)"
      ],
      "execution_count": null,
      "outputs": [
        {
          "output_type": "stream",
          "name": "stderr",
          "text": [
            "2099it [02:49, 12.38it/s]\n"
          ]
        }
      ]
    },
    {
      "cell_type": "code",
      "metadata": {
        "colab": {
          "base_uri": "https://localhost:8080/"
        },
        "id": "aOSxylrHmirH",
        "outputId": "d66d3fd3-acde-4f4d-aa38-9894af0dcf16"
      },
      "source": [
        "#testing_process\n",
        "\n",
        "for i,id in tqdm(enumerate(test_image_list)):\n",
        "\n",
        "  #reading images in train_data\n",
        "  img=cv2.imread(data+id)\n",
        "\n",
        "  for region_prop in test_data[id]['region_proposal']:\n",
        "\n",
        "    #getting the region of proposal\n",
        "    x,y,w,h=region_prop[0]\n",
        "\n",
        "    # getting the labels\n",
        "    label=region_prop[1]\n",
        "\n",
        "    temp_img=cv2.cvtColor(cv2.resize(img[y:y+h,x:x+w,:],(224,224)),cv2.COLOR_BGR2RGB)\n",
        "\n",
        "    cv2.imwrite('Test/'+label+'/'+label+'_'+str(len(os.listdir('Test/'+label)))+'.jpg',temp_img)\n",
        "\n",
        "  for back_ground in test_data[id]['negative_sample']:\n",
        "\n",
        "    #getting the region of proposal\n",
        "    x,y,w,h=back_ground\n",
        "\n",
        "    # getting the labels\n",
        "    label='back_ground'\n",
        "\n",
        "    temp_img=cv2.cvtColor(cv2.resize(img[y:y+h,x:x+w,:],(224,224)),cv2.COLOR_BGR2RGB)\n",
        "\n",
        "    cv2.imwrite('Test/'+label+'/'+label+'_'+str(len(os.listdir('Test/'+label)))+'.jpg',temp_img)"
      ],
      "execution_count": null,
      "outputs": [
        {
          "output_type": "stream",
          "name": "stderr",
          "text": [
            "902it [00:39, 22.65it/s]\n"
          ]
        }
      ]
    },
    {
      "cell_type": "code",
      "metadata": {
        "colab": {
          "base_uri": "https://localhost:8080/"
        },
        "id": "qP9qEHI8oB3c",
        "outputId": "68ce6ebc-b768-4bcc-f9b1-1baf3c428a63"
      },
      "source": [
        "print('number of samples in fruit brownspot: {}'.format(len(os.listdir('Train/fruit_brownspot'))))\n",
        "print('number of samples in fruit healthy: {}'.format(len(os.listdir('Train/fruit_healthy'))))\n",
        "print('number of samples in fruit woodiness: {}'.format(len(os.listdir('Train/fruit_woodiness'))))\n",
        "print('number of samples in fruit background: {}'.format(len(os.listdir('Train/back_ground'))))"
      ],
      "execution_count": null,
      "outputs": [
        {
          "output_type": "stream",
          "name": "stdout",
          "text": [
            "number of samples in fruit brownspot: 2740\n",
            "number of samples in fruit healthy: 4637\n",
            "number of samples in fruit woodiness: 3483\n",
            "number of samples in fruit background: 21415\n"
          ]
        }
      ]
    },
    {
      "cell_type": "code",
      "metadata": {
        "colab": {
          "base_uri": "https://localhost:8080/",
          "height": 35
        },
        "id": "f-RiiK5boo7f",
        "outputId": "3685344f-3af6-4adc-afc7-a810bcf5621c"
      },
      "source": [
        "from shutil import make_archive\n",
        "\n",
        "make_archive('Test', 'zip', root_dir='Test')"
      ],
      "execution_count": null,
      "outputs": [
        {
          "output_type": "execute_result",
          "data": {
            "application/vnd.google.colaboratory.intrinsic+json": {
              "type": "string"
            },
            "text/plain": [
              "'/content/Test.zip'"
            ]
          },
          "metadata": {},
          "execution_count": 28
        }
      ]
    },
    {
      "cell_type": "code",
      "metadata": {
        "colab": {
          "base_uri": "https://localhost:8080/",
          "height": 35
        },
        "id": "dqPJU-iYrFpi",
        "outputId": "aaf1f697-6ba1-4572-a574-77fcc389fad8"
      },
      "source": [
        "make_archive('Train','zip',root_dir='Train')"
      ],
      "execution_count": null,
      "outputs": [
        {
          "output_type": "execute_result",
          "data": {
            "application/vnd.google.colaboratory.intrinsic+json": {
              "type": "string"
            },
            "text/plain": [
              "'/content/Train.zip'"
            ]
          },
          "metadata": {},
          "execution_count": 27
        }
      ]
    }
  ]
}